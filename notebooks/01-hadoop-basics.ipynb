{
 "cells": [
  {
   "cell_type": "markdown",
   "metadata": {},
   "source": [
    "# Hadoop HDFS Basics\n",
    "\n",
    "This notebook demonstrates basic HDFS operations using PySpark and the hdfs3 library.\n"
   ]
  },
  {
   "cell_type": "code",
   "execution_count": null,
   "metadata": {},
   "outputs": [],
   "source": [
    "# Import required libraries\n",
    "import findspark\n",
    "findspark.init()\n",
    "\n",
    "from pyspark.sql import SparkSession\n",
    "from pyspark import SparkContext, SparkConf\n",
    "import pandas as pd\n",
    "import numpy as np\n",
    "\n",
    "print(\"Libraries imported successfully!\")"
   ]
  },
  {
   "cell_type": "code",
   "execution_count": null,
   "metadata": {},
   "outputs": [],
   "source": [
    "# Create Spark Session with Hadoop configuration\n",
    "spark = SparkSession.builder \\\n",
    "    .appName(\"HDFS-Basics\") \\\n",
    "    .config(\"spark.hadoop.fs.defaultFS\", \"hdfs://namenode:9000\") \\\n",
    "    .enableHiveSupport() \\\n",
    "    .getOrCreate()\n",
    "\n",
    "sc = spark.sparkContext\n",
    "print(f\"Spark Version: {spark.version}\")\n",
    "print(f\"Spark Master: {sc.master}\")\n",
    "print(f\"Default File System: {sc._jsc.hadoopConfiguration().get('fs.defaultFS')}\")"
   ]
  },
  {
   "cell_type": "code",
   "execution_count": null,
   "metadata": {},
   "outputs": [],
   "source": [
    "# Test HDFS connectivity\n",
    "from pyspark.sql.functions import *\n",
    "\n",
    "# Create a simple DataFrame\n",
    "data = [(\"Alice\", 25), (\"Bob\", 30), (\"Charlie\", 35)]\n",
    "columns = [\"name\", \"age\"]\n",
    "df = spark.createDataFrame(data, columns)\n",
    "\n",
    "print(\"Sample DataFrame created:\")\n",
    "df.show()"
   ]
  },
  {
   "cell_type": "code",
   "execution_count": null,
   "metadata": {},
   "outputs": [],
   "source": [
    "# Write data to HDFS\n",
    "hdfs_path = \"hdfs://namenode:9000/user/data/sample_users\"\n",
    "\n",
    "df.write \\\n",
    "  .mode(\"overwrite\") \\\n",
    "  .option(\"header\", \"true\") \\\n",
    "  .csv(hdfs_path)\n",
    "\n",
    "print(f\"Data written to HDFS: {hdfs_path}\")"
   ]
  },
  {
   "cell_type": "code",
   "execution_count": null,
   "metadata": {},
   "outputs": [],
   "source": [
    "# Read data back from HDFS\n",
    "df_read = spark.read \\\n",
    "    .option(\"header\", \"true\") \\\n",
    "    .option(\"inferSchema\", \"true\") \\\n",
    "    .csv(hdfs_path)\n",
    "\n",
    "print(\"Data read from HDFS:\")\n",
    "df_read.show()\n",
    "print(f\"Schema: {df_read.printSchema()}\")"
   ]
  },
  {
   "cell_type": "code",
   "execution_count": null,
   "metadata": {},
   "outputs": [],
   "source": [
    "# HDFS file operations using Spark\n",
    "hadoop_fs = sc._jvm.org.apache.hadoop.fs.FileSystem.get(sc._jsc.hadoopConfiguration())\n",
    "hadoop_path = sc._jvm.org.apache.hadoop.fs.Path\n",
    "\n",
    "# List files in HDFS root directory\n",
    "print(\"HDFS Root Directory Contents:\")\n",
    "root_path = hadoop_path(\"/\")\n",
    "file_status = hadoop_fs.listStatus(root_path)\n",
    "\n",
    "for status in file_status:\n",
    "    path = status.getPath().toString()\n",
    "    is_dir = status.isDirectory()\n",
    "    size = status.getLen()\n",
    "    print(f\"{'[DIR]' if is_dir else '[FILE]'} {path} ({size} bytes)\")"
   ]
  },
  {
   "cell_type": "code",
   "execution_count": null,
   "metadata": {},
   "outputs": [],
   "source": [
    "# Create directories in HDFS\n",
    "test_dir = \"/user/test\"\n",
    "data_dir = \"/user/data\"\n",
    "logs_dir = \"/user/logs\"\n",
    "\n",
    "for directory in [test_dir, data_dir, logs_dir]:\n",
    "    path = hadoop_path(directory)\n",
    "    if not hadoop_fs.exists(path):\n",
    "        hadoop_fs.mkdirs(path)\n",
    "        print(f\"Created directory: {directory}\")\n",
    "    else:\n",
    "        print(f\"Directory already exists: {directory}\")"
   ]
  },
  {
   "cell_type": "code",
   "execution_count": null,
   "metadata": {},
   "outputs": [],
   "source": [
    "# Clean up\n",
    "spark.stop()\n",
    "print(\"Spark session stopped successfully!\")"
   ]
  }
 ],
 "metadata": {
  "kernelspec": {
   "display_name": "Python 3",
   "language": "python",
   "name": "python3"
  },
  "language_info": {
   "codemirror_mode": {
    "name": "ipython",
    "version": 3
   },
   "file_extension": ".py",
   "mimetype": "text/x-python",
   "name": "python",
   "nbconvert_exporter": "python",
   "pygments_lexer": "ipython3",
   "version": "3.8.10"
  }
 },
 "nbformat": 4,
 "nbformat_minor": 4
}